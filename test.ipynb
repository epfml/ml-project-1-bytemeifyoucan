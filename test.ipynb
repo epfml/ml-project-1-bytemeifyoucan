{
 "cells": [
  {
   "cell_type": "code",
   "execution_count": null,
   "metadata": {},
   "outputs": [],
   "source": [
    "from helper import *"
   ]
  },
  {
   "cell_type": "code",
   "execution_count": null,
   "metadata": {},
   "outputs": [],
   "source": [
    "# returns of load_csv_data function\n",
    "\"\"\"\n",
    "x_train (np.array): training data\n",
    "x_test (np.array): test data\n",
    "y_train (np.array): labels for training data in format (-1,1)\n",
    "train_ids (np.array): ids of training data\n",
    "test_ids (np.array): ids of test data\n",
    "\"\"\"\n",
    "\n",
    "x_train, x_test, y_train, train_ids, test_ids = load_csv_data(\".\\dataset_to_release\", sub_sample=False)"
   ]
  },
  {
   "cell_type": "code",
   "execution_count": null,
   "metadata": {},
   "outputs": [],
   "source": [
    "print(x_test.shape)\n",
    "print(y_train.shape)"
   ]
  }
 ],
 "metadata": {
  "kernelspec": {
   "display_name": "Python 3",
   "language": "python",
   "name": "python3"
  },
  "language_info": {
   "name": "python",
   "version": "3.11.6"
  }
 },
 "nbformat": 4,
 "nbformat_minor": 2
}
