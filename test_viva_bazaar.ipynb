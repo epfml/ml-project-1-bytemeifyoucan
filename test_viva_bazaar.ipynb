{
 "cells": [
  {
   "cell_type": "code",
   "execution_count": 1,
   "metadata": {},
   "outputs": [],
   "source": [
    "import numpy as np"
   ]
  },
  {
   "cell_type": "code",
   "execution_count": 4,
   "metadata": {},
   "outputs": [
    {
     "name": "stdout",
     "output_type": "stream",
     "text": [
      "6\n"
     ]
    }
   ],
   "source": [
    "arr_2d = np.array([888,1,2,3,0,0,888,888,0,5,0,0,0])\n",
    "nb = np.count_nonzero(arr_2d==0)\n",
    "print(nb)"
   ]
  },
  {
   "cell_type": "code",
   "execution_count": 18,
   "metadata": {},
   "outputs": [
    {
     "name": "stdout",
     "output_type": "stream",
     "text": [
      "2\n",
      "[[6 7]]\n",
      "[6 7]\n"
     ]
    }
   ],
   "source": [
    "arr2 = np.array([0,1,2,3,0,0,888,888,0,5,0,0,0])\n",
    "idxpred = np.array(np.where(arr_2d == 888))\n",
    "idxgt= np.array(np.where(arr2 == 888))\n",
    "common = np.intersect1d(idxpred, idxgt)\n",
    "tp = len(common)\n",
    "print(tp)\n",
    "print(idxgt)\n",
    "print(common)"
   ]
  },
  {
   "cell_type": "code",
   "execution_count": null,
   "metadata": {},
   "outputs": [],
   "source": []
  }
 ],
 "metadata": {
  "kernelspec": {
   "display_name": "mlcourse",
   "language": "python",
   "name": "python3"
  },
  "language_info": {
   "codemirror_mode": {
    "name": "ipython",
    "version": 3
   },
   "file_extension": ".py",
   "mimetype": "text/x-python",
   "name": "python",
   "nbconvert_exporter": "python",
   "pygments_lexer": "ipython3",
   "version": "3.11.5"
  }
 },
 "nbformat": 4,
 "nbformat_minor": 2
}
