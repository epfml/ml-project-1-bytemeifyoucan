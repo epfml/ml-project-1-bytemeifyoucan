{
 "cells": [
  {
   "cell_type": "code",
   "execution_count": null,
   "metadata": {},
   "outputs": [],
   "source": []
  },
  {
   "cell_type": "code",
   "execution_count": 1,
   "metadata": {},
   "outputs": [],
   "source": [
    "from helper import *\n",
    "import numpy as np"
   ]
  },
  {
   "cell_type": "code",
   "execution_count": 45,
   "metadata": {},
   "outputs": [],
   "source": [
    "def mean_squared_error_gd(y, tx, initial_w, max_iters, gamma):\n",
    "    \"\"\"Calculates the gradient of the unregularized loss and uses it in gradient descent to approximate optimal weights\n",
    "    y: numpy array of shape=(N, )\n",
    "        tx: numpy array of shape=(N,2)\n",
    "        w: numpy array of shape=(2, ). The vector of model parameters.\n",
    "\n",
    "    Args:\n",
    "        y (np.ndarray): shape = (N,) contains the data we want to predict\n",
    "        tx (np.ndarray): shape = (N,2) contains the features used to predict\n",
    "        initial_w (np.ndarray): shape = (2,) the initial weight pair that will get updated with gradient\n",
    "        max_iters (int): maximum number of steps\n",
    "        gamma (float): learning rate\n",
    "\n",
    "    Returns:\n",
    "        np.ndarray : shape = (2,) optimal weights\n",
    "        float : mean squared erros\n",
    "    \"\"\"\n",
    "    w = initial_w # initiate w_{t}\n",
    "    for n_iter in range(max_iters):\n",
    "        e = y - np.dot(tx,w)\n",
    "        gradient = -tx.T.dot(e) / len(e)\n",
    "        new_w = w - gamma * gradient # w_{t+1} = w_{t} - gamma * \\/L(w_{t})\n",
    "        w = new_w # update w_{t} with the value of w_{t+1} for the next iteration\n",
    "    e = y - np.dot(tx,w)\n",
    "    return w, compute_mse(e)\n",
    "\n",
    "def mean_squared_error_sgd(y, tx, initial_w, max_iters, gamma):  \n",
    "    \"\"\"Calculates the gradient of the unregularized loss and uses it in stochastic gradient descent to approximate optimal weights\n",
    "\n",
    "    Args:\n",
    "        y (np.ndarray): shape = (N,) contains the data we want to predict\n",
    "        tx (np.ndarray): shape = (N,2) contains the features used to predict\n",
    "        initial_w (np.ndarray): shape = (2,) the initial weight pair that will get updated with gradient\n",
    "        max_iters (int): maximum number of steps\n",
    "        gamma (float): learning rate\n",
    "\n",
    "    Returns:\n",
    "        np.ndarray : shape = (2,) optimal weights\n",
    "        float : mean squared erros\n",
    "    \"\"\"\n",
    "    w = initial_w # initiate w_{t}\n",
    "    for n_iter in range(max_iters):\n",
    "        new_w = w - gamma * compute_stoch_gradient(y, tx, w) # w_{t+1} = w_{t} - gamma * \\/L_n(w_{t})\n",
    "        w = new_w # update w_{t} with the value of w_{t+1} for the next iteration\n",
    "    e = y - tx.dot(w)\n",
    "    return w, compute_mse(e)\n",
    "    \n",
    "\n",
    "    \n",
    "def least_squares(y, tx):\n",
    "    \"\"\"Computes optimal weights by solving the normal equation\n",
    "\n",
    "    Args:\n",
    "        y (np.ndarray): shape = (N,) contains the data we want to predict\n",
    "        tx (np.ndarray): shape = (N,2) contains the features used to predict\n",
    "\n",
    "    Returns:\n",
    "        np.ndarray : shape = (2,) optimal weights\n",
    "        float : mean squared error\n",
    "    \"\"\"\n",
    "    txT = tx.T #transpose calculation to avoid computing it twice in the arguments of np.linalg.solve\n",
    "    w = np.linalg.solve(txT.dot(tx),txT.dot(y))\n",
    "    #return w, compute_mse(y, tx, w)\n",
    "    e = y - tx.dot(w)\n",
    "    return w, compute_mse(e)\n",
    "\n",
    "\n",
    "def ridge_regression(y, tx, lambda_, cost = 'mse'):\n",
    "    \"\"\"Implements ridge regression with L2 regularisation to optimize weights by solving normal equation. \n",
    "\n",
    "    Args:\n",
    "        y: numpy array of shape (N,), N is the number of samples.\n",
    "        tx: numpy array of shape (N,D), D is the number of features.\n",
    "        lambda_: penalization coefficient.\n",
    "        cost: str {'mse', 'mae'}, default = 'mse', can also be 'mae\n",
    "\n",
    "    Returns:\n",
    "        np.ndarray : shape = (D, ) optimal weights, D is the number of features.\n",
    "        float: mse or mae loss\n",
    "\n",
    "    >>> ridge_regression(np.array([0.1,0.2]), np.array([[2.3, 3.2], [1., 0.1]]), 0)\n",
    "    array([ 0.21212121, -0.12121212])\n",
    "    >>> ridge_regression(np.array([0.1,0.2]), np.array([[2.3, 3.2], [1., 0.1]]), 1)\n",
    "    array([0.03947092, 0.00319628])\n",
    "    \"\"\"\n",
    "    N = y.size\n",
    "    D = tx.shape[1]\n",
    "    txT = tx.T\n",
    "    w = np.linalg.solve(np.dot(txT, tx) + 2*N*lambda_ * np.identity(D) , np.dot(txT, y))\n",
    "    e = y - tx.dot(w)\n",
    "    if cost == 'mse':\n",
    "        loss = compute_mse(e)\n",
    "    else:\n",
    "        loss = compute_mae(e)\n",
    "    return w, loss\n",
    "    \n",
    "\n",
    "def logistic_regression(y, tx, initial_w, max_iters, gamma, labels=True):\n",
    "    \"\"\"Will perform logistic regression on tx and y, bu computing gradient and updating w max_iter times.\n",
    "\n",
    "    Args:\n",
    "        y (np.ndarray): shape = (N,) contains the data we want to predict\n",
    "        tx (np.ndarray): shape = (N,2) contains the features used to predict\n",
    "        initial_w (np.ndarray): shape = (2,) the initial weight pair that will get updated with gradient\n",
    "        max_iters (int): maximum number of steps\n",
    "        gamma (float): learning rate\n",
    "        labels: True (default) if we use {0,1} labels, False if we use {-1,1} labels\n",
    "\n",
    "     Returns:\n",
    "        np.ndarray : shape = (2,) optimal weights\n",
    "        float : mean squared error\n",
    "    \"\"\"\n",
    "    w = initial_w\n",
    "\n",
    "    if(labels == True):\n",
    "\n",
    "        for n_iter in range(max_iters):\n",
    "            s = sigmoid(tx.dot(w))\n",
    "            gradient = - (tx.T).dot(y - s) / len(y)\n",
    "            new_w = w - gamma * gradient # w_{t+1} = w_{t} - gamma * \\/L_n(w_{t})\n",
    "            w = new_w # update w_{t} with the value of w_{t+1} for the next iteration\n",
    "\n",
    "        s = sigmoid(tx.dot(w))\n",
    "        loss = - np.mean(y * np.log(s) + (1 - y) * np.log(1 - s))\n",
    "\n",
    "    if(labels == False):\n",
    "        # we use the Hinge loss for labels {-1, 1}\n",
    "        # H is the hinge loss vector\n",
    "\n",
    "        for n_iter in range(max_iters):\n",
    "            H = np.max(0, 1 - y * np.dot(tx, w))\n",
    "            gradient = -np.dot(tx.T, y * (H > 0))\n",
    "            new_w = w - gamma * gradient # w_{t+1} = w_{t} - gamma * \\/L_n(w_{t})\n",
    "            w = new_w # update w_{t} with the value of w_{t+1} for the next iteration\n",
    "        \n",
    "        loss = np.mean(np.max(0, 1 - y * tx.dot(w)))\n",
    "\n",
    "    return w, loss\n",
    "\n",
    "    \n",
    "def reg_logistic_regression(y, tx, lambda_, initial_w, max_iters, gamma, labels =True):\n",
    "    \"\"\"_summary_\n",
    "\n",
    "    Args:\n",
    "        y (np.ndarray): shape = (N,) contains the data we want to predict\n",
    "        tx (np.ndarray): shape = (N,2) contains the features used to predict\n",
    "        lambda_ (float): penalization coefficient\n",
    "        initial_w (np.ndarray): shape = (2,) the initial weight pair that will get updated with gradient\n",
    "        max_iters (int): maximum number of steps\n",
    "        gamma (float): learning rate\n",
    "        labels: True (default) if we use {0,1} labels, False if we use {-1,1} labels\n",
    "\n",
    "    Returns:\n",
    "        np.ndarray : shape = (2,) optimal weights\n",
    "        float : mean squared error\n",
    "    \"\"\"\n",
    "\n",
    "    w = initial_w\n",
    "\n",
    "    if(labels == True):\n",
    "\n",
    "        for n_iter in range(max_iters):\n",
    "            s = sigmoid(tx.dot(w))\n",
    "            gradient = - (tx.T).dot(y - s) / len(y) +  2 * lambda_ * np.abs(w)\n",
    "            new_w = w - gamma * gradient # w_{t+1} = w_{t} - gamma * \\/L_n(w_{t})\n",
    "            w = new_w # update w_{t} with the value of w_{t+1} for the next iteration\n",
    "\n",
    "        s = sigmoid(tx.dot(w))\n",
    "        loss = - np.mean(y * np.log(s) + (1 - y) * np.log(1 - s))\n",
    "\n",
    "    if(labels == False):\n",
    "        # we use the Hinge loss for labels {-1, 1}\n",
    "        # H is the hinge loss vector\n",
    "\n",
    "        for n_iter in range(max_iters):\n",
    "            H = np.max(0, 1 - y * np.dot(tx, w))\n",
    "            gradient = -np.dot(tx.T, y * (H > 0)) +  2 * lambda_ * np.abs(w)\n",
    "            new_w = w - gamma * gradient # w_{t+1} = w_{t} - gamma * \\/L_n(w_{t})\n",
    "            w = new_w # update w_{t} with the value of w_{t+1} for the next iteration\n",
    "        \n",
    "        loss = np.mean(np.max(0, 1 - y * tx.dot(w)))\n",
    "\n",
    "    return w, loss\n",
    "\n",
    "\n",
    "\n",
    "def train(model, y, x, initial_w = 0, max_iters = 0, gamma = 0, lambda_ = 0, cost = 'mse'):\n",
    "    if model == 'gradient descent':\n",
    "        w, loss = mean_squared_error_gd(y,x, initial_w, max_iters, gamma)\n",
    "        \n",
    "    elif model == 'stochastic gradient descent':\n",
    "        w, loss = mean_squared_error_sgd(y, x, initial_w, max_iters, gamma)\n",
    "    elif model == 'least squares':\n",
    "        w, loss = least_squares(y, x)\n",
    "        \n",
    "        \n",
    "    elif model == 'ridge regression':\n",
    "        w, loss = ridge_regression(y, x, lambda_, cost)\n",
    "        \n",
    "    elif model == 'logistic regression':\n",
    "        w, loss = logistic_regression(y, x, initial_w, max_iters, gamma)\n",
    "        \n",
    "    elif model == 'reg logistic regression':\n",
    "        w, loss = reg_logistic_regression(y, x, lambda_, initial_w, max_iters, gamma)\n",
    "        \n",
    "    else:\n",
    "        print(f'model name -{model}- is incorrect')\n",
    "        return 0\n",
    "    return w, loss\n",
    "\n",
    "def estimate(predictions, groundtruth):\n",
    "    #if y is -1 or 1. need to change to 1 and -1 if y is 0,1\n",
    "    #here assuming negative is -1 and positive 1\n",
    "    predictions = np.sign(predictions)\n",
    "    difference = groundtruth - predictions\n",
    "    accuracy =  np.count_nonzero(difference==0)/len(predictions)\n",
    "    fp = np.count_nonzero(difference == -2)\n",
    "    fn = np.count_nonzero(difference == 2)\n",
    "    pospred = np.where(predictions == 1)\n",
    "    posgt = np.where(groundtruth == 1)\n",
    "    tp = len(np.intersect1d(pospred, posgt))\n",
    "    if (tp + (fp+fn)/2)!= 0:\n",
    "        f1 = tp / (tp + (fp+fn)/2)\n",
    "    else:\n",
    "        f1 = 'mistake'\n",
    "    #print(difference)\n",
    "    return f1, accuracy"
   ]
  },
  {
   "cell_type": "code",
   "execution_count": 48,
   "metadata": {},
   "outputs": [],
   "source": [
    "#generate my fake data\n",
    "fx = np.random.randn(100000, 4)\n",
    "\n",
    "fy = np.random.choice([-1,1],size =  100000)\n"
   ]
  },
  {
   "cell_type": "code",
   "execution_count": 52,
   "metadata": {},
   "outputs": [
    {
     "name": "stdout",
     "output_type": "stream",
     "text": [
      "working on model gradient descent\n",
      "f1: 0.5044486115544207, accuracy 0.50318\n",
      "working on model stochastic gradient descent\n",
      "f1: 0.49718997004638305, accuracy 0.49809\n",
      "working on model least squares\n",
      "f1: 0.5044486115544207, accuracy 0.50318\n",
      "working on model ridge regression\n",
      "f1: 0.50445849707754, accuracy 0.50318\n",
      "working on model logistic regression\n",
      "f1: 0.5010961290128833, accuracy 0.50161\n",
      "working on model reg logistic regression\n",
      "f1: 0.5013960470352764, accuracy 0.50177\n"
     ]
    }
   ],
   "source": [
    "#try running our models\n",
    "models = ['gradient descent', 'stochastic gradient descent', 'least squares', 'ridge regression', 'logistic regression', 'reg logistic regression']\n",
    "ws = []\n",
    "ls = []\n",
    "for model in models:\n",
    "    print(f'working on model {model}')\n",
    "    weights, l = train(model, fy, fx, initial_w = [0,0,0,0], max_iters = 500, gamma = 0.7, lambda_= 0.01)\n",
    "    ws.append(weights)\n",
    "    ls.append(l)\n",
    "    pred = fx.dot(weights)\n",
    "    f1,acc = estimate(pred, fy)\n",
    "    print(f'f1: {f1}, accuracy {acc}')\n",
    "    #if logistic or ridge, need to do cv"
   ]
  },
  {
   "cell_type": "code",
   "execution_count": 53,
   "metadata": {},
   "outputs": [
    {
     "data": {
      "text/plain": [
       "[array([ 0.00019598,  0.00378482, -0.00304819,  0.00215502]),\n",
       " array([-3.67579100e+41,  1.51694642e+41,  6.21982053e+41, -5.95687249e+41]),\n",
       " array([ 0.00019598,  0.00378482, -0.00304819,  0.00215502]),\n",
       " array([ 0.00019219,  0.00371026, -0.00298777,  0.00211287]),\n",
       " array([ 0.01416086,  0.01449631, -0.00525024,  0.00217249]),\n",
       " array([ 0.0131135 ,  0.01341865, -0.00571254,  0.00201041])]"
      ]
     },
     "execution_count": 53,
     "metadata": {},
     "output_type": "execute_result"
    }
   ],
   "source": [
    "ws"
   ]
  },
  {
   "cell_type": "code",
   "execution_count": 54,
   "metadata": {},
   "outputs": [
    {
     "data": {
      "text/plain": [
       "[0.49998593078887027,\n",
       " 4.4899081075646284e+83,\n",
       " 0.49998593078887027,\n",
       " 0.49998593625877724,\n",
       " 0.6930918921549905,\n",
       " 0.6930922037740764]"
      ]
     },
     "execution_count": 54,
     "metadata": {},
     "output_type": "execute_result"
    }
   ],
   "source": [
    "ls"
   ]
  },
  {
   "cell_type": "code",
   "execution_count": 68,
   "metadata": {},
   "outputs": [],
   "source": [
    "\n",
    "def run_pca(x, n_components, visualisation = False):\n",
    "    #use standardized data\n",
    "    cov_mat = np.cov(x , rowvar = False)\n",
    "    #Calculating Eigenvalues and Eigenvectors of the covariance matrix\n",
    "    eigen_values , eigen_vectors = np.linalg.eigh(cov_mat)\n",
    "    #sort the eigenvalues in descending order\n",
    "    sorted_index = np.argsort(eigen_values)[::-1]\n",
    "    \n",
    "    sorted_eigenvalue = eigen_values[sorted_index]\n",
    "    #similarly sort the eigenvectors \n",
    "    sorted_eigenvectors = eigen_vectors[:,sorted_index]\n",
    "    \n",
    "    eigenvector_subset = sorted_eigenvectors[:,0:n_components]\n",
    "    x_reduced = np.dot(eigenvector_subset.transpose(),x.transpose()).transpose()\n",
    "    plot_pca(n_components, sorted_eigenvalue, visualisation)\n",
    "    \n",
    "    return x_reduced\n",
    "\n",
    "def plot_pca(n_components, eigenvalues, visualisation):\n",
    "    eigenvalues_relative = eigenvalues/np.sum(eigenvalues) * 100\n",
    "    cum_eigenvalues = np.cumsum(eigenvalues_relative[: n_components])\n",
    "    plt.plot(range(n_components),cum_eigenvalues , color = 'blue', marker = 'x')\n",
    "    plt.xlabel(\"Variance explained (%)\")\n",
    "    plt.ylabel(\"Principal Component\")\n",
    "    plt.title('Principal Component Analysis')\n",
    "    plt.grid(True)\n",
    "    if visualisation == False:\n",
    "        plt.close()\n",
    "    plt.savefig('PCA')\n",
    "    "
   ]
  },
  {
   "cell_type": "code",
   "execution_count": 74,
   "metadata": {},
   "outputs": [
    {
     "name": "stdout",
     "output_type": "stream",
     "text": [
      "0\n"
     ]
    },
    {
     "data": {
      "image/png": "[encoded data removed]",
      "text/plain": [
       "<Figure size 640x480 with 1 Axes>"
      ]
     },
     "metadata": {},
     "output_type": "display_data"
    }
   ],
   "source": [
    "#compare pca mine and that of sklearn\n",
    "from sklearn.decomposition import PCA\n",
    "\n",
    "mypca = run_pca(fx, 2, visualisation = True)\n",
    "\n",
    "otherpca = PCA(n_components = 2)\n",
    "otherpca.fit(fx)\n",
    "other_reduced = otherpca.transform(fx)\n",
    "\n",
    "diff = mypca - other_reduced\n",
    "print(np.count_nonzero(diff == 0))\n",
    "\n"
   ]
  },
  {
   "cell_type": "code",
   "execution_count": 82,
   "metadata": {},
   "outputs": [
    {
     "data": {
      "text/plain": [
       "<matplotlib.legend.Legend at 0x138806550>"
      ]
     },
     "execution_count": 82,
     "metadata": {},
     "output_type": "execute_result"
    },
    {
     "data": {
      "image/png": "[encoded data removed]",
      "text/plain": [
       "<Figure size 640x480 with 1 Axes>"
      ]
     },
     "metadata": {},
     "output_type": "display_data"
    }
   ],
   "source": [
    "plt.plot(mypca[:100, 0], mypca[:100,1], \n",
    "         color = 'red',marker = 'o', linestyle = 'none', label = 'my pca')\n",
    "plt.plot(other_reduced[:100, 0], other_reduced[:100,1], \n",
    "         color = 'green',marker = 'o', linestyle = 'none', label = 'sklearn')\n",
    "plt.legend()"
   ]
  },
  {
   "cell_type": "code",
   "execution_count": null,
   "metadata": {},
   "outputs": [],
   "source": []
  }
 ],
 "metadata": {
  "kernelspec": {
   "display_name": "mlcourse",
   "language": "python",
   "name": "python3"
  },
  "language_info": {
   "codemirror_mode": {
    "name": "ipython",
    "version": 3
   },
   "file_extension": ".py",
   "mimetype": "text/x-python",
   "name": "python",
   "nbconvert_exporter": "python",
   "pygments_lexer": "ipython3",
   "version": "3.11.5"
  }
 },
 "nbformat": 4,
 "nbformat_minor": 2
}
